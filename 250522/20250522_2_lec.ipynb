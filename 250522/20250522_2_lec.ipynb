{
  "cells": [
    {
      "cell_type": "markdown",
      "id": "b1cbdb6c",
      "metadata": {
        "id": "b1cbdb6c"
      },
      "source": [
        "# 1차시: 프로그래밍 기초 (2)\n",
        "## NumPy & Matplotlib기초 강의 노트\n"
      ]
    },
    {
      "cell_type": "markdown",
      "id": "f1b89b52",
      "metadata": {
        "id": "f1b89b52"
      },
      "source": [
        "## 1. NumPy 소개\n",
        "\n",
        "- 과학/수치 계산용 파이썬 라이브러리\n",
        "- 다차원 배열(`ndarray`)과 빠른 벡터·행렬 연산 지원\n",
        "- 일반 리스트보다 연산 속도가 빠름"
      ]
    },
    {
      "cell_type": "code",
      "source": [
        "import numpy as np"
      ],
      "metadata": {
        "id": "eB-2Dn9tdhru"
      },
      "id": "eB-2Dn9tdhru",
      "execution_count": 1,
      "outputs": []
    },
    {
      "cell_type": "markdown",
      "source": [
        "### 1.1 1차원 배열"
      ],
      "metadata": {
        "id": "axSEFwprfIoF"
      },
      "id": "axSEFwprfIoF"
    },
    {
      "cell_type": "code",
      "execution_count": 2,
      "id": "ea25009f",
      "metadata": {
        "colab": {
          "base_uri": "https://localhost:8080/"
        },
        "id": "ea25009f",
        "outputId": "336ff713-0fc5-47e9-d14e-f57e3357f71a"
      },
      "outputs": [
        {
          "output_type": "stream",
          "name": "stdout",
          "text": [
            "배열 a: [1 3 2 4 5]\n",
            "차원: 1\n",
            "모양(shape): (5,)\n"
          ]
        }
      ],
      "source": [
        "# 1차원 배열 생성\n",
        "a = np.array([1, 3, 2, 4, 5])\n",
        "print(\"배열 a:\", a)\n",
        "print(\"차원:\", a.ndim)\n",
        "print(\"모양(shape):\", a.shape)"
      ]
    },
    {
      "cell_type": "code",
      "source": [
        "# 1차원 배열 정렬\n",
        "a = np.sort(a)\n",
        "a"
      ],
      "metadata": {
        "colab": {
          "base_uri": "https://localhost:8080/"
        },
        "id": "6Lax5bY2eN1G",
        "outputId": "f90b4f54-77a5-4f2b-f59c-6403e65da9ea"
      },
      "id": "6Lax5bY2eN1G",
      "execution_count": 3,
      "outputs": [
        {
          "output_type": "execute_result",
          "data": {
            "text/plain": [
              "array([1, 2, 3, 4, 5])"
            ]
          },
          "metadata": {},
          "execution_count": 3
        }
      ]
    },
    {
      "cell_type": "code",
      "source": [
        "# 1차원 배열의 평균과 표준편차\n",
        "print(np.mean(a))\n",
        "print(np.std(a))\n",
        "\n",
        "# 1차원 배열에서의 max, min 값\n",
        "print(np.max(a))\n",
        "print(np.min(a))"
      ],
      "metadata": {
        "colab": {
          "base_uri": "https://localhost:8080/"
        },
        "id": "3KxJzUimeeld",
        "outputId": "cdc5bbac-db1a-4218-df07-67a04a52d5cf"
      },
      "id": "3KxJzUimeeld",
      "execution_count": 4,
      "outputs": [
        {
          "output_type": "stream",
          "name": "stdout",
          "text": [
            "3.0\n",
            "1.4142135623730951\n",
            "5\n",
            "1\n"
          ]
        }
      ]
    },
    {
      "cell_type": "markdown",
      "source": [
        "### 1.2 2차원 배열"
      ],
      "metadata": {
        "id": "Z6XabIKIfNbO"
      },
      "id": "Z6XabIKIfNbO"
    },
    {
      "cell_type": "code",
      "source": [
        "# 2차원 배열 생성\n",
        "b = np.array([[1, 2, 3],\n",
        "              [4, 5, 6]])\n",
        "print(\"배열 b:\\n\", b)\n",
        "print(\"차원:\", b.ndim)\n",
        "print(\"모양(shape):\", b.shape)"
      ],
      "metadata": {
        "colab": {
          "base_uri": "https://localhost:8080/"
        },
        "id": "6JD_X46bdgiA",
        "outputId": "814f5dca-cc7e-4ef8-b1cb-4046c48869bd"
      },
      "id": "6JD_X46bdgiA",
      "execution_count": 5,
      "outputs": [
        {
          "output_type": "stream",
          "name": "stdout",
          "text": [
            "배열 b:\n",
            " [[1 2 3]\n",
            " [4 5 6]]\n",
            "차원: 2\n",
            "모양(shape): (2, 3)\n"
          ]
        }
      ]
    },
    {
      "cell_type": "code",
      "source": [
        "# 2차원 배열의 평균과 표준편차\n",
        "print(np.mean(b))\n",
        "print(np.std(b))"
      ],
      "metadata": {
        "colab": {
          "base_uri": "https://localhost:8080/"
        },
        "id": "A_XC4_gBeeF1",
        "outputId": "5f7835e0-25a5-4a64-9af4-105ada1ad8dc"
      },
      "id": "A_XC4_gBeeF1",
      "execution_count": 6,
      "outputs": [
        {
          "output_type": "stream",
          "name": "stdout",
          "text": [
            "3.5\n",
            "1.707825127659933\n"
          ]
        }
      ]
    },
    {
      "cell_type": "code",
      "source": [
        "# 2차원 배열의 평균과 표준편차\n",
        "print(np.mean(b, axis=0))\n",
        "print(np.mean(b, axis=1))"
      ],
      "metadata": {
        "colab": {
          "base_uri": "https://localhost:8080/"
        },
        "id": "SNl_6SPweqtG",
        "outputId": "38c1baec-12a5-42a6-8e9b-7b02dcf2e8f9"
      },
      "id": "SNl_6SPweqtG",
      "execution_count": 7,
      "outputs": [
        {
          "output_type": "stream",
          "name": "stdout",
          "text": [
            "[2.5 3.5 4.5]\n",
            "[2. 5.]\n"
          ]
        }
      ]
    },
    {
      "cell_type": "code",
      "source": [
        "x = np.array([[1, 2, 3, 4]])\n",
        "y = np.array([[5, 6]])\n",
        "np.concatenate((x, y), axis=1)"
      ],
      "metadata": {
        "colab": {
          "base_uri": "https://localhost:8080/"
        },
        "id": "vk-99JcDfG5e",
        "outputId": "255f982a-05db-4d17-c849-7583556928e6"
      },
      "id": "vk-99JcDfG5e",
      "execution_count": 8,
      "outputs": [
        {
          "output_type": "execute_result",
          "data": {
            "text/plain": [
              "array([[1, 2, 3, 4, 5, 6]])"
            ]
          },
          "metadata": {},
          "execution_count": 8
        }
      ]
    },
    {
      "cell_type": "code",
      "source": [
        "x = np.array([[1, 1],\n",
        "              [2, 2]])\n",
        "y = np.array([[5, 6]])\n",
        "np.concatenate((x, y), axis=0)"
      ],
      "metadata": {
        "colab": {
          "base_uri": "https://localhost:8080/"
        },
        "id": "H5n6dymle0h-",
        "outputId": "6d300fe4-b611-445d-9055-020a7062c5dc"
      },
      "id": "H5n6dymle0h-",
      "execution_count": 9,
      "outputs": [
        {
          "output_type": "execute_result",
          "data": {
            "text/plain": [
              "array([[1, 1],\n",
              "       [2, 2],\n",
              "       [5, 6]])"
            ]
          },
          "metadata": {},
          "execution_count": 9
        }
      ]
    },
    {
      "cell_type": "markdown",
      "id": "1edf5c36",
      "metadata": {
        "id": "1edf5c36"
      },
      "source": [
        "### 1.3 배열 연산\n",
        "\n",
        "- 덧셈: `+`, 뺄셈: `-`, 곱셈(요소별): `*`, 나눗셈(요소별): `/`, 거듭제곱(요소별): `**`"
      ]
    },
    {
      "cell_type": "code",
      "execution_count": 10,
      "id": "cab739c3",
      "metadata": {
        "colab": {
          "base_uri": "https://localhost:8080/"
        },
        "id": "cab739c3",
        "outputId": "e1431212-96fc-4ca8-c271-5fc65b69e0e0"
      },
      "outputs": [
        {
          "output_type": "stream",
          "name": "stdout",
          "text": [
            "a + c = [6 6 6 6 6]\n",
            "a * c = [5 8 9 8 5]\n",
            "a * 2 = [ 2  4  6  8 10]\n",
            "a ** 2 = [ 1  4  9 16 25]\n",
            "a + 10 = [11 12 13 14 15]\n"
          ]
        }
      ],
      "source": [
        "a = np.array([1, 2, 3, 4, 5])\n",
        "c = np.array([5, 4, 3, 2, 1])\n",
        "print(\"a + c =\", a + c)\n",
        "print(\"a * c =\", a * c)\n",
        "print(\"a * 2 =\", a * 2)\n",
        "print(\"a ** 2 =\", a ** 2)\n",
        "print(\"a + 10 =\", a + 10)"
      ]
    },
    {
      "cell_type": "markdown",
      "id": "73b15463",
      "metadata": {
        "id": "73b15463"
      },
      "source": [
        "## 2. Matplotlib 소개\n",
        "\n",
        "- 데이터 시각화를 위한 파이썬 라이브러리\n",
        "- Plot 종류 소개\n",
        "\n",
        "1. **선 그래프(Line Plot)**: 시간 흐름 또는 순차적 데이터 표현\n",
        "2. **산점도(Scatter Plot)**: 두 변수 간 관계 탐색\n",
        "3. **막대 그래프(Bar Chart)**: 카테고리별 비교\n",
        "4. **히스토그램(Histogram)**: 데이터 분포 확인\n",
        "5. **상자 그림(Box Plot)**: 분포 요약 및 이상치 확인"
      ]
    },
    {
      "cell_type": "code",
      "source": [
        "import matplotlib.pyplot as plt"
      ],
      "metadata": {
        "id": "4l6-hpX9gFdE"
      },
      "id": "4l6-hpX9gFdE",
      "execution_count": 11,
      "outputs": []
    },
    {
      "cell_type": "markdown",
      "source": [
        "## 2.1 선 그래프(Line Plot)"
      ],
      "metadata": {
        "id": "zg4jjtMErsJ9"
      },
      "id": "zg4jjtMErsJ9"
    },
    {
      "cell_type": "code",
      "execution_count": 12,
      "id": "3dcf04b6",
      "metadata": {
        "colab": {
          "base_uri": "https://localhost:8080/",
          "height": 472
        },
        "id": "3dcf04b6",
        "outputId": "06562c6f-b450-4273-9ac2-e691cc26e290"
      },
      "outputs": [
        {
          "output_type": "display_data",
          "data": {
            "text/plain": [
              "<Figure size 640x480 with 1 Axes>"
            ],
            "image/png": "[encoded data removed]"
          },
          "metadata": {}
        }
      ],
      "source": [
        "plt.plot([1,2,3,4],[3,4,2,1])\n",
        "plt.xlabel('x-value')\n",
        "plt.ylabel('y-value')\n",
        "plt.title('The first plot')\n",
        "plt.grid()\n",
        "plt.show()"
      ]
    },
    {
      "cell_type": "code",
      "source": [
        "x = np.array([1,2,3,4,5,6,7,8,9,10])\n",
        "y1 = x\n",
        "y2 = x**2\n",
        "y3 = 2**x\n",
        "\n",
        "plt.plot(x, y1, color='blue', label='$y=x$')\n",
        "plt.plot(x, y2, color='red', label='$y=x^2$')\n",
        "plt.plot(x, y3, color='green', label='$y=2^x$')\n",
        "plt.xlabel('x-value')\n",
        "plt.ylabel('y-value')\n",
        "plt.legend()\n",
        "plt.show()"
      ],
      "metadata": {
        "colab": {
          "base_uri": "https://localhost:8080/",
          "height": 449
        },
        "id": "t-A-kg15BUUh",
        "outputId": "81f04a5b-a467-4653-a493-0ef96ffc5ea3"
      },
      "id": "t-A-kg15BUUh",
      "execution_count": 13,
      "outputs": [
        {
          "output_type": "display_data",
          "data": {
            "text/plain": [
              "<Figure size 640x480 with 1 Axes>"
            ],
            "image/png": "[encoded data removed]"
          },
          "metadata": {}
        }
      ]
    },
    {
      "cell_type": "code",
      "source": [
        "x = [21,22,23,24,25]\n",
        "y = [100,70,90,160,110]\n",
        "plt.plot(x,y)\n",
        "plt.scatter(x,y, color='k')\n",
        "plt.xticks(x)\n",
        "plt.xlabel('year')\n",
        "plt.ylabel('money')\n",
        "plt.hlines(100, xmin=min(x), xmax=max(x), color='red', linestyle='dotted')\n",
        "plt.show()"
      ],
      "metadata": {
        "colab": {
          "base_uri": "https://localhost:8080/",
          "height": 449
        },
        "id": "ddnyrcggB5Fi",
        "outputId": "bdf317ef-7c6f-4ac7-e6bd-7e7cc4dfbd9a"
      },
      "id": "ddnyrcggB5Fi",
      "execution_count": 14,
      "outputs": [
        {
          "output_type": "display_data",
          "data": {
            "text/plain": [
              "<Figure size 640x480 with 1 Axes>"
            ],
            "image/png": "[encoded data removed]"
          },
          "metadata": {}
        }
      ]
    },
    {
      "cell_type": "markdown",
      "source": [
        "**실습 1:**\n",
        "\n",
        "시간에 따라 변화하는 어떤 값에 대한 선 그래프를 그려보세요.\n",
        "(키, 몸무게, 성적 등)"
      ],
      "metadata": {
        "id": "iph0BFNxsD2s"
      },
      "id": "iph0BFNxsD2s"
    },
    {
      "cell_type": "code",
      "source": [],
      "metadata": {
        "id": "QaEZ7ZW6sEvh"
      },
      "id": "QaEZ7ZW6sEvh",
      "execution_count": null,
      "outputs": []
    },
    {
      "cell_type": "markdown",
      "source": [
        "**실습 2:**\n",
        "\n",
        "- $y = x^2$의 그래프\n",
        "- $y = xlog(x)$의 그래프\n"
      ],
      "metadata": {
        "id": "PB9LfxcZsKRM"
      },
      "id": "PB9LfxcZsKRM"
    },
    {
      "cell_type": "code",
      "source": [
        "x = np.array([1,2,3,4,5,6,7,8,9,10])\n",
        "y1 = x**2\n",
        "y2 = x*np.log(x)\n",
        "y3 = np.exp(x)\n",
        "\n",
        "plt.plot(x, y1, color='blue', label='$y=x^2$')\n",
        "plt.plot(x, y2, color='red', label='$y=xlog(x)$')\n",
        "plt.plot(x, y3, color='green', label='$y=e^x$')\n",
        "plt.xlabel('x-value')\n",
        "plt.ylabel('y-value')\n",
        "plt.legend()\n",
        "plt.show()"
      ],
      "metadata": {
        "id": "LptEaJK6sLtT",
        "colab": {
          "base_uri": "https://localhost:8080/",
          "height": 449
        },
        "outputId": "23cc0d65-bd0b-4f70-d05d-74fd19f5cd30"
      },
      "id": "LptEaJK6sLtT",
      "execution_count": 15,
      "outputs": [
        {
          "output_type": "display_data",
          "data": {
            "text/plain": [
              "<Figure size 640x480 with 1 Axes>"
            ],
            "image/png": "[encoded data removed]"
          },
          "metadata": {}
        }
      ]
    },
    {
      "cell_type": "markdown",
      "source": [
        "## 2.2 막대 그래프(Bar Chart)"
      ],
      "metadata": {
        "id": "HOe124sgsNl1"
      },
      "id": "HOe124sgsNl1"
    },
    {
      "cell_type": "code",
      "source": [
        "x = [21,22,23,24,25]\n",
        "y = [100,70,90,160,110]\n",
        "\n",
        "plt.figure(figsize=(3,2))\n",
        "plt.bar(x,y, color='black')\n",
        "plt.title(\"Temporal dynamics of my MONEY\")\n",
        "plt.xlabel(\"year\")\n",
        "plt.ylabel(\"money\")\n",
        "plt.show()"
      ],
      "metadata": {
        "id": "CP1VWpg_sPzo",
        "colab": {
          "base_uri": "https://localhost:8080/",
          "height": 256
        },
        "outputId": "7dd4c4ec-fd4c-4cba-ab5c-c73082c1eb9f"
      },
      "id": "CP1VWpg_sPzo",
      "execution_count": 16,
      "outputs": [
        {
          "output_type": "display_data",
          "data": {
            "text/plain": [
              "<Figure size 300x200 with 1 Axes>"
            ],
            "image/png": "[encoded data removed]"
          },
          "metadata": {}
        }
      ]
    },
    {
      "cell_type": "markdown",
      "source": [
        "## 2.3 히스토그램(Histogram)"
      ],
      "metadata": {
        "id": "UmIUNbrQslwV"
      },
      "id": "UmIUNbrQslwV"
    },
    {
      "cell_type": "code",
      "source": [
        "import pandas as pd"
      ],
      "metadata": {
        "id": "kikV0ngqsqni"
      },
      "id": "kikV0ngqsqni",
      "execution_count": 17,
      "outputs": []
    },
    {
      "cell_type": "code",
      "source": [
        "# 학생 점수 데이터 불러오기\n",
        "df = pd.read_csv('student_scores.csv')\n",
        "df"
      ],
      "metadata": {
        "id": "mUFZoLBDsnkV",
        "colab": {
          "base_uri": "https://localhost:8080/",
          "height": 424
        },
        "outputId": "d891f3e3-f428-497e-dc91-f7d4c4853aae"
      },
      "id": "mUFZoLBDsnkV",
      "execution_count": 18,
      "outputs": [
        {
          "output_type": "execute_result",
          "data": {
            "text/plain": [
              "    student  kor  math  eng\n",
              "0         1   73    67   73\n",
              "1         2   61    63   64\n",
              "2         3   64    66   57\n",
              "3         4   67    72   73\n",
              "4         5   58    80   82\n",
              "..      ...  ...   ...  ...\n",
              "95       96   92    88   92\n",
              "96       97   69    73   76\n",
              "97       98   80    74   84\n",
              "98       99   73    66   78\n",
              "99      100   79    70   69\n",
              "\n",
              "[100 rows x 4 columns]"
            ],
            "text/html": [
              "\n",
              "  <div id=\"df-7afb9dac-f459-4066-a658-58ffc5a05514\" class=\"colab-df-container\">\n",
              "    <div>\n",
              "<style scoped>\n",
              "    .dataframe tbody tr th:only-of-type {\n",
              "        vertical-align: middle;\n",
              "    }\n",
              "\n",
              "    .dataframe tbody tr th {\n",
              "        vertical-align: top;\n",
              "    }\n",
              "\n",
              "    .dataframe thead th {\n",
              "        text-align: right;\n",
              "    }\n",
              "</style>\n",
              "<table border=\"1\" class=\"dataframe\">\n",
              "  <thead>\n",
              "    <tr style=\"text-align: right;\">\n",
              "      <th></th>\n",
              "      <th>student</th>\n",
              "      <th>kor</th>\n",
              "      <th>math</th>\n",
              "      <th>eng</th>\n",
              "    </tr>\n",
              "  </thead>\n",
              "  <tbody>\n",
              "    <tr>\n",
              "      <th>0</th>\n",
              "      <td>1</td>\n",
              "      <td>73</td>\n",
              "      <td>67</td>\n",
              "      <td>73</td>\n",
              "    </tr>\n",
              "    <tr>\n",
              "      <th>1</th>\n",
              "      <td>2</td>\n",
              "      <td>61</td>\n",
              "      <td>63</td>\n",
              "      <td>64</td>\n",
              "    </tr>\n",
              "    <tr>\n",
              "      <th>2</th>\n",
              "      <td>3</td>\n",
              "      <td>64</td>\n",
              "      <td>66</td>\n",
              "      <td>57</td>\n",
              "    </tr>\n",
              "    <tr>\n",
              "      <th>3</th>\n",
              "      <td>4</td>\n",
              "      <td>67</td>\n",
              "      <td>72</td>\n",
              "      <td>73</td>\n",
              "    </tr>\n",
              "    <tr>\n",
              "      <th>4</th>\n",
              "      <td>5</td>\n",
              "      <td>58</td>\n",
              "      <td>80</td>\n",
              "      <td>82</td>\n",
              "    </tr>\n",
              "    <tr>\n",
              "      <th>...</th>\n",
              "      <td>...</td>\n",
              "      <td>...</td>\n",
              "      <td>...</td>\n",
              "      <td>...</td>\n",
              "    </tr>\n",
              "    <tr>\n",
              "      <th>95</th>\n",
              "      <td>96</td>\n",
              "      <td>92</td>\n",
              "      <td>88</td>\n",
              "      <td>92</td>\n",
              "    </tr>\n",
              "    <tr>\n",
              "      <th>96</th>\n",
              "      <td>97</td>\n",
              "      <td>69</td>\n",
              "      <td>73</td>\n",
              "      <td>76</td>\n",
              "    </tr>\n",
              "    <tr>\n",
              "      <th>97</th>\n",
              "      <td>98</td>\n",
              "      <td>80</td>\n",
              "      <td>74</td>\n",
              "      <td>84</td>\n",
              "    </tr>\n",
              "    <tr>\n",
              "      <th>98</th>\n",
              "      <td>99</td>\n",
              "      <td>73</td>\n",
              "      <td>66</td>\n",
              "      <td>78</td>\n",
              "    </tr>\n",
              "    <tr>\n",
              "      <th>99</th>\n",
              "      <td>100</td>\n",
              "      <td>79</td>\n",
              "      <td>70</td>\n",
              "      <td>69</td>\n",
              "    </tr>\n",
              "  </tbody>\n",
              "</table>\n",
              "<p>100 rows × 4 columns</p>\n",
              "</div>\n",
              "    <div class=\"colab-df-buttons\">\n",
              "\n",
              "  <div class=\"colab-df-container\">\n",
              "    <button class=\"colab-df-convert\" onclick=\"convertToInteractive('df-7afb9dac-f459-4066-a658-58ffc5a05514')\"\n",
              "            title=\"Convert this dataframe to an interactive table.\"\n",
              "            style=\"display:none;\">\n",
              "\n",
              "  <svg xmlns=\"http://www.w3.org/2000/svg\" height=\"24px\" viewBox=\"0 -960 960 960\">\n",
              "    <path d=\"M120-120v-720h720v720H120Zm60-500h600v-160H180v160Zm220 220h160v-160H400v160Zm0 220h160v-160H400v160ZM180-400h160v-160H180v160Zm440 0h160v-160H620v160ZM180-180h160v-160H180v160Zm440 0h160v-160H620v160Z\"/>\n",
              "  </svg>\n",
              "    </button>\n",
              "\n",
              "  <style>\n",
              "    .colab-df-container {\n",
              "      display:flex;\n",
              "      gap: 12px;\n",
              "    }\n",
              "\n",
              "    .colab-df-convert {\n",
              "      background-color: #E8F0FE;\n",
              "      border: none;\n",
              "      border-radius: 50%;\n",
              "      cursor: pointer;\n",
              "      display: none;\n",
              "      fill: #1967D2;\n",
              "      height: 32px;\n",
              "      padding: 0 0 0 0;\n",
              "      width: 32px;\n",
              "    }\n",
              "\n",
              "    .colab-df-convert:hover {\n",
              "      background-color: #E2EBFA;\n",
              "      box-shadow: 0px 1px 2px rgba(60, 64, 67, 0.3), 0px 1px 3px 1px rgba(60, 64, 67, 0.15);\n",
              "      fill: #174EA6;\n",
              "    }\n",
              "\n",
              "    .colab-df-buttons div {\n",
              "      margin-bottom: 4px;\n",
              "    }\n",
              "\n",
              "    [theme=dark] .colab-df-convert {\n",
              "      background-color: #3B4455;\n",
              "      fill: #D2E3FC;\n",
              "    }\n",
              "\n",
              "    [theme=dark] .colab-df-convert:hover {\n",
              "      background-color: #434B5C;\n",
              "      box-shadow: 0px 1px 3px 1px rgba(0, 0, 0, 0.15);\n",
              "      filter: drop-shadow(0px 1px 2px rgba(0, 0, 0, 0.3));\n",
              "      fill: #FFFFFF;\n",
              "    }\n",
              "  </style>\n",
              "\n",
              "    <script>\n",
              "      const buttonEl =\n",
              "        document.querySelector('#df-7afb9dac-f459-4066-a658-58ffc5a05514 button.colab-df-convert');\n",
              "      buttonEl.style.display =\n",
              "        google.colab.kernel.accessAllowed ? 'block' : 'none';\n",
              "\n",
              "      async function convertToInteractive(key) {\n",
              "        const element = document.querySelector('#df-7afb9dac-f459-4066-a658-58ffc5a05514');\n",
              "        const dataTable =\n",
              "          await google.colab.kernel.invokeFunction('convertToInteractive',\n",
              "                                                    [key], {});\n",
              "        if (!dataTable) return;\n",
              "\n",
              "        const docLinkHtml = 'Like what you see? Visit the ' +\n",
              "          '<a target=\"_blank\" href=https://colab.research.google.com/notebooks/data_table.ipynb>data table notebook</a>'\n",
              "          + ' to learn more about interactive tables.';\n",
              "        element.innerHTML = '';\n",
              "        dataTable['output_type'] = 'display_data';\n",
              "        await google.colab.output.renderOutput(dataTable, element);\n",
              "        const docLink = document.createElement('div');\n",
              "        docLink.innerHTML = docLinkHtml;\n",
              "        element.appendChild(docLink);\n",
              "      }\n",
              "    </script>\n",
              "  </div>\n",
              "\n",
              "\n",
              "    <div id=\"df-31ccfb52-5b58-4941-b827-b19f7813b2d2\">\n",
              "      <button class=\"colab-df-quickchart\" onclick=\"quickchart('df-31ccfb52-5b58-4941-b827-b19f7813b2d2')\"\n",
              "                title=\"Suggest charts\"\n",
              "                style=\"display:none;\">\n",
              "\n",
              "<svg xmlns=\"http://www.w3.org/2000/svg\" height=\"24px\"viewBox=\"0 0 24 24\"\n",
              "     width=\"24px\">\n",
              "    <g>\n",
              "        <path d=\"M19 3H5c-1.1 0-2 .9-2 2v14c0 1.1.9 2 2 2h14c1.1 0 2-.9 2-2V5c0-1.1-.9-2-2-2zM9 17H7v-7h2v7zm4 0h-2V7h2v10zm4 0h-2v-4h2v4z\"/>\n",
              "    </g>\n",
              "</svg>\n",
              "      </button>\n",
              "\n",
              "<style>\n",
              "  .colab-df-quickchart {\n",
              "      --bg-color: #E8F0FE;\n",
              "      --fill-color: #1967D2;\n",
              "      --hover-bg-color: #E2EBFA;\n",
              "      --hover-fill-color: #174EA6;\n",
              "      --disabled-fill-color: #AAA;\n",
              "      --disabled-bg-color: #DDD;\n",
              "  }\n",
              "\n",
              "  [theme=dark] .colab-df-quickchart {\n",
              "      --bg-color: #3B4455;\n",
              "      --fill-color: #D2E3FC;\n",
              "      --hover-bg-color: #434B5C;\n",
              "      --hover-fill-color: #FFFFFF;\n",
              "      --disabled-bg-color: #3B4455;\n",
              "      --disabled-fill-color: #666;\n",
              "  }\n",
              "\n",
              "  .colab-df-quickchart {\n",
              "    background-color: var(--bg-color);\n",
              "    border: none;\n",
              "    border-radius: 50%;\n",
              "    cursor: pointer;\n",
              "    display: none;\n",
              "    fill: var(--fill-color);\n",
              "    height: 32px;\n",
              "    padding: 0;\n",
              "    width: 32px;\n",
              "  }\n",
              "\n",
              "  .colab-df-quickchart:hover {\n",
              "    background-color: var(--hover-bg-color);\n",
              "    box-shadow: 0 1px 2px rgba(60, 64, 67, 0.3), 0 1px 3px 1px rgba(60, 64, 67, 0.15);\n",
              "    fill: var(--button-hover-fill-color);\n",
              "  }\n",
              "\n",
              "  .colab-df-quickchart-complete:disabled,\n",
              "  .colab-df-quickchart-complete:disabled:hover {\n",
              "    background-color: var(--disabled-bg-color);\n",
              "    fill: var(--disabled-fill-color);\n",
              "    box-shadow: none;\n",
              "  }\n",
              "\n",
              "  .colab-df-spinner {\n",
              "    border: 2px solid var(--fill-color);\n",
              "    border-color: transparent;\n",
              "    border-bottom-color: var(--fill-color);\n",
              "    animation:\n",
              "      spin 1s steps(1) infinite;\n",
              "  }\n",
              "\n",
              "  @keyframes spin {\n",
              "    0% {\n",
              "      border-color: transparent;\n",
              "      border-bottom-color: var(--fill-color);\n",
              "      border-left-color: var(--fill-color);\n",
              "    }\n",
              "    20% {\n",
              "      border-color: transparent;\n",
              "      border-left-color: var(--fill-color);\n",
              "      border-top-color: var(--fill-color);\n",
              "    }\n",
              "    30% {\n",
              "      border-color: transparent;\n",
              "      border-left-color: var(--fill-color);\n",
              "      border-top-color: var(--fill-color);\n",
              "      border-right-color: var(--fill-color);\n",
              "    }\n",
              "    40% {\n",
              "      border-color: transparent;\n",
              "      border-right-color: var(--fill-color);\n",
              "      border-top-color: var(--fill-color);\n",
              "    }\n",
              "    60% {\n",
              "      border-color: transparent;\n",
              "      border-right-color: var(--fill-color);\n",
              "    }\n",
              "    80% {\n",
              "      border-color: transparent;\n",
              "      border-right-color: var(--fill-color);\n",
              "      border-bottom-color: var(--fill-color);\n",
              "    }\n",
              "    90% {\n",
              "      border-color: transparent;\n",
              "      border-bottom-color: var(--fill-color);\n",
              "    }\n",
              "  }\n",
              "</style>\n",
              "\n",
              "      <script>\n",
              "        async function quickchart(key) {\n",
              "          const quickchartButtonEl =\n",
              "            document.querySelector('#' + key + ' button');\n",
              "          quickchartButtonEl.disabled = true;  // To prevent multiple clicks.\n",
              "          quickchartButtonEl.classList.add('colab-df-spinner');\n",
              "          try {\n",
              "            const charts = await google.colab.kernel.invokeFunction(\n",
              "                'suggestCharts', [key], {});\n",
              "          } catch (error) {\n",
              "            console.error('Error during call to suggestCharts:', error);\n",
              "          }\n",
              "          quickchartButtonEl.classList.remove('colab-df-spinner');\n",
              "          quickchartButtonEl.classList.add('colab-df-quickchart-complete');\n",
              "        }\n",
              "        (() => {\n",
              "          let quickchartButtonEl =\n",
              "            document.querySelector('#df-31ccfb52-5b58-4941-b827-b19f7813b2d2 button');\n",
              "          quickchartButtonEl.style.display =\n",
              "            google.colab.kernel.accessAllowed ? 'block' : 'none';\n",
              "        })();\n",
              "      </script>\n",
              "    </div>\n",
              "\n",
              "  <div id=\"id_d8e10e88-87bd-4489-a69b-070843750897\">\n",
              "    <style>\n",
              "      .colab-df-generate {\n",
              "        background-color: #E8F0FE;\n",
              "        border: none;\n",
              "        border-radius: 50%;\n",
              "        cursor: pointer;\n",
              "        display: none;\n",
              "        fill: #1967D2;\n",
              "        height: 32px;\n",
              "        padding: 0 0 0 0;\n",
              "        width: 32px;\n",
              "      }\n",
              "\n",
              "      .colab-df-generate:hover {\n",
              "        background-color: #E2EBFA;\n",
              "        box-shadow: 0px 1px 2px rgba(60, 64, 67, 0.3), 0px 1px 3px 1px rgba(60, 64, 67, 0.15);\n",
              "        fill: #174EA6;\n",
              "      }\n",
              "\n",
              "      [theme=dark] .colab-df-generate {\n",
              "        background-color: #3B4455;\n",
              "        fill: #D2E3FC;\n",
              "      }\n",
              "\n",
              "      [theme=dark] .colab-df-generate:hover {\n",
              "        background-color: #434B5C;\n",
              "        box-shadow: 0px 1px 3px 1px rgba(0, 0, 0, 0.15);\n",
              "        filter: drop-shadow(0px 1px 2px rgba(0, 0, 0, 0.3));\n",
              "        fill: #FFFFFF;\n",
              "      }\n",
              "    </style>\n",
              "    <button class=\"colab-df-generate\" onclick=\"generateWithVariable('df')\"\n",
              "            title=\"Generate code using this dataframe.\"\n",
              "            style=\"display:none;\">\n",
              "\n",
              "  <svg xmlns=\"http://www.w3.org/2000/svg\" height=\"24px\"viewBox=\"0 0 24 24\"\n",
              "       width=\"24px\">\n",
              "    <path d=\"M7,19H8.4L18.45,9,17,7.55,7,17.6ZM5,21V16.75L18.45,3.32a2,2,0,0,1,2.83,0l1.4,1.43a1.91,1.91,0,0,1,.58,1.4,1.91,1.91,0,0,1-.58,1.4L9.25,21ZM18.45,9,17,7.55Zm-12,3A5.31,5.31,0,0,0,4.9,8.1,5.31,5.31,0,0,0,1,6.5,5.31,5.31,0,0,0,4.9,4.9,5.31,5.31,0,0,0,6.5,1,5.31,5.31,0,0,0,8.1,4.9,5.31,5.31,0,0,0,12,6.5,5.46,5.46,0,0,0,6.5,12Z\"/>\n",
              "  </svg>\n",
              "    </button>\n",
              "    <script>\n",
              "      (() => {\n",
              "      const buttonEl =\n",
              "        document.querySelector('#id_d8e10e88-87bd-4489-a69b-070843750897 button.colab-df-generate');\n",
              "      buttonEl.style.display =\n",
              "        google.colab.kernel.accessAllowed ? 'block' : 'none';\n",
              "\n",
              "      buttonEl.onclick = () => {\n",
              "        google.colab.notebook.generateWithVariable('df');\n",
              "      }\n",
              "      })();\n",
              "    </script>\n",
              "  </div>\n",
              "\n",
              "    </div>\n",
              "  </div>\n"
            ],
            "application/vnd.google.colaboratory.intrinsic+json": {
              "type": "dataframe",
              "variable_name": "df",
              "summary": "{\n  \"name\": \"df\",\n  \"rows\": 100,\n  \"fields\": [\n    {\n      \"column\": \"student\",\n      \"properties\": {\n        \"dtype\": \"number\",\n        \"std\": 29,\n        \"min\": 1,\n        \"max\": 100,\n        \"num_unique_values\": 100,\n        \"samples\": [\n          84,\n          54,\n          71\n        ],\n        \"semantic_type\": \"\",\n        \"description\": \"\"\n      }\n    },\n    {\n      \"column\": \"kor\",\n      \"properties\": {\n        \"dtype\": \"number\",\n        \"std\": 9,\n        \"min\": 52,\n        \"max\": 98,\n        \"num_unique_values\": 36,\n        \"samples\": [\n          85,\n          69,\n          89\n        ],\n        \"semantic_type\": \"\",\n        \"description\": \"\"\n      }\n    },\n    {\n      \"column\": \"math\",\n      \"properties\": {\n        \"dtype\": \"number\",\n        \"std\": 8,\n        \"min\": 48,\n        \"max\": 92,\n        \"num_unique_values\": 33,\n        \"samples\": [\n          88,\n          79,\n          81\n        ],\n        \"semantic_type\": \"\",\n        \"description\": \"\"\n      }\n    },\n    {\n      \"column\": \"eng\",\n      \"properties\": {\n        \"dtype\": \"number\",\n        \"std\": 9,\n        \"min\": 50,\n        \"max\": 94,\n        \"num_unique_values\": 36,\n        \"samples\": [\n          87,\n          85,\n          66\n        ],\n        \"semantic_type\": \"\",\n        \"description\": \"\"\n      }\n    }\n  ]\n}"
            }
          },
          "metadata": {},
          "execution_count": 18
        }
      ]
    },
    {
      "cell_type": "code",
      "source": [
        "plt.figure(figsize=(6,4))\n",
        "plt.hist(df[\"eng\"], bins=20, color='black')\n",
        "plt.title(\"Distribution of math score\")\n",
        "plt.xlabel(\"Math score\")\n",
        "plt.ylabel(\"Frequency\")\n",
        "plt.show()"
      ],
      "metadata": {
        "id": "QXFKxS9ksznn",
        "colab": {
          "base_uri": "https://localhost:8080/",
          "height": 410
        },
        "outputId": "c6579e70-0d65-495d-8ab2-1980eee56021"
      },
      "id": "QXFKxS9ksznn",
      "execution_count": 19,
      "outputs": [
        {
          "output_type": "display_data",
          "data": {
            "text/plain": [
              "<Figure size 600x400 with 1 Axes>"
            ],
            "image/png": "[encoded data removed]"
          },
          "metadata": {}
        }
      ]
    },
    {
      "cell_type": "code",
      "source": [
        "plt.figure(figsize=(10,3))\n",
        "plt.subplot(221)\n",
        "plt.hist(df[\"kor\"], bins=10)\n",
        "plt.title(\"KOR\")\n",
        "\n",
        "plt.subplot(222)\n",
        "plt.hist(df[\"math\"], bins=10)\n",
        "plt.title(\"MATH\")\n",
        "\n",
        "plt.subplot(223)\n",
        "plt.hist(df[\"eng\"], bins=10)\n",
        "plt.title(\"ENG\")\n",
        "\n",
        "#plt.subplots_adjust(vspace=0.3)\n",
        "\n",
        "plt.show()"
      ],
      "metadata": {
        "id": "zV1VEE-Hs1DE",
        "colab": {
          "base_uri": "https://localhost:8080/",
          "height": 314
        },
        "outputId": "4298877e-60db-4817-9e4e-a9f8f199b570"
      },
      "id": "zV1VEE-Hs1DE",
      "execution_count": 20,
      "outputs": [
        {
          "output_type": "display_data",
          "data": {
            "text/plain": [
              "<Figure size 1000x300 with 3 Axes>"
            ],
            "image/png": "[encoded data removed]"
          },
          "metadata": {}
        }
      ]
    },
    {
      "cell_type": "markdown",
      "source": [
        "## 2.4 산점도(Scatter Plot)"
      ],
      "metadata": {
        "id": "PH0w__38s3Pv"
      },
      "id": "PH0w__38s3Pv"
    },
    {
      "cell_type": "code",
      "source": [
        "plt.figure(figsize=(6,4))\n",
        "plt.scatter(df[\"kor\"], df[\"eng\"])\n",
        "plt.show()"
      ],
      "metadata": {
        "id": "oFVeezCJs7EA",
        "colab": {
          "base_uri": "https://localhost:8080/",
          "height": 368
        },
        "outputId": "c584325d-4427-421f-c246-238456c50488"
      },
      "id": "oFVeezCJs7EA",
      "execution_count": 21,
      "outputs": [
        {
          "output_type": "display_data",
          "data": {
            "text/plain": [
              "<Figure size 600x400 with 1 Axes>"
            ],
            "image/png": "[encoded data removed]"
          },
          "metadata": {}
        }
      ]
    },
    {
      "cell_type": "markdown",
      "source": [
        "## 2.5 상자 그림(Box Plot)"
      ],
      "metadata": {
        "id": "d8UL7wmVs9Yk"
      },
      "id": "d8UL7wmVs9Yk"
    },
    {
      "cell_type": "code",
      "source": [
        "plt.figure(figsize=(6,4))\n",
        "plt.boxplot(df[\"kor\"], label=\"KOR\")\n",
        "plt.title(\"KOR\")\n",
        "plt.ylabel(\"Score\")\n",
        "plt.legend()\n",
        "plt.show()"
      ],
      "metadata": {
        "id": "syFir9BJs_t0",
        "colab": {
          "base_uri": "https://localhost:8080/",
          "height": 391
        },
        "outputId": "802f882d-627c-4790-84d9-db72d429a317"
      },
      "id": "syFir9BJs_t0",
      "execution_count": 22,
      "outputs": [
        {
          "output_type": "display_data",
          "data": {
            "text/plain": [
              "<Figure size 600x400 with 1 Axes>"
            ],
            "image/png": "[encoded data removed]"
          },
          "metadata": {}
        }
      ]
    },
    {
      "cell_type": "code",
      "source": [
        "plt.figure(figsize=(6,4))\n",
        "plt.boxplot([df[\"kor\"], df[\"math\"], df[\"eng\"]], labels=[\"KOR\",\"MATH\",\"ENG\"])\n",
        "plt.show()"
      ],
      "metadata": {
        "id": "GxmYDki2tCkJ",
        "colab": {
          "base_uri": "https://localhost:8080/",
          "height": 408
        },
        "outputId": "48858817-c47b-43c1-eb3a-de1115d6667f"
      },
      "id": "GxmYDki2tCkJ",
      "execution_count": 23,
      "outputs": [
        {
          "output_type": "stream",
          "name": "stderr",
          "text": [
            "<ipython-input-23-5adcb6daf101>:2: MatplotlibDeprecationWarning: The 'labels' parameter of boxplot() has been renamed 'tick_labels' since Matplotlib 3.9; support for the old name will be dropped in 3.11.\n",
            "  plt.boxplot([df[\"kor\"], df[\"math\"], df[\"eng\"]], labels=[\"KOR\",\"MATH\",\"ENG\"])\n"
          ]
        },
        {
          "output_type": "display_data",
          "data": {
            "text/plain": [
              "<Figure size 600x400 with 1 Axes>"
            ],
            "image/png": "[encoded data removed]"
          },
          "metadata": {}
        }
      ]
    }
  ],
  "metadata": {
    "colab": {
      "provenance": []
    },
    "language_info": {
      "name": "python"
    },
    "kernelspec": {
      "name": "python3",
      "display_name": "Python 3"
    }
  },
  "nbformat": 4,
  "nbformat_minor": 5
}