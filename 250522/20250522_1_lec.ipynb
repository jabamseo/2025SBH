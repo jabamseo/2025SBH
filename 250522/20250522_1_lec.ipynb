{
  "cells": [
    {
      "cell_type": "markdown",
      "id": "bc4b06ab",
      "metadata": {
        "id": "bc4b06ab"
      },
      "source": [
        "# 1차시: 프로그래밍 기초 (1)\n",
        "## 파이썬 기본 문법"
      ]
    },
    {
      "cell_type": "markdown",
      "id": "f5af2d83",
      "metadata": {
        "id": "f5af2d83"
      },
      "source": [
        "## 1. `print()` 활용\n",
        "\n",
        "- `print()` 함수로 화면에 메시지나 변숫값을 출력합니다."
      ]
    },
    {
      "cell_type": "code",
      "execution_count": 1,
      "id": "4310a3b1",
      "metadata": {
        "colab": {
          "base_uri": "https://localhost:8080/"
        },
        "id": "4310a3b1",
        "outputId": "461a5a63-e982-4b59-cfa8-6913840c878b"
      },
      "outputs": [
        {
          "output_type": "stream",
          "name": "stdout",
          "text": [
            "Hello, Python!\n",
            "나만의 문장을 출력해 보세요!\n"
          ]
        }
      ],
      "source": [
        "print(\"Hello, Python!\")\n",
        "print(\"나만의 문장을 출력해 보세요!\")"
      ]
    },
    {
      "cell_type": "markdown",
      "id": "75bc7b77",
      "metadata": {
        "id": "75bc7b77"
      },
      "source": [
        "**실습 1:**\n",
        "\n",
        "`print()`를 사용해 본인의 이름과 좋아하는 과목을 출력해 보세요."
      ]
    },
    {
      "cell_type": "code",
      "source": [],
      "metadata": {
        "id": "coPHYZknk6dc"
      },
      "id": "coPHYZknk6dc",
      "execution_count": null,
      "outputs": []
    },
    {
      "cell_type": "markdown",
      "id": "201ccd7d",
      "metadata": {
        "id": "201ccd7d"
      },
      "source": [
        "## 2. 기본 연산\n",
        "\n",
        "- 사칙연산: `+`, `-`, `*`, `/`\n",
        "- 몫: `//`, 나머지: `%`, 거듭제곱: `**`"
      ]
    },
    {
      "cell_type": "code",
      "execution_count": 2,
      "id": "479fa2b6",
      "metadata": {
        "colab": {
          "base_uri": "https://localhost:8080/"
        },
        "id": "479fa2b6",
        "outputId": "8a163a02-0cd4-4c0f-9ac1-13d312eff8c9"
      },
      "outputs": [
        {
          "output_type": "stream",
          "name": "stdout",
          "text": [
            "3 + 5 = 8\n",
            "10 - 4 = 6\n",
            "6 * 7 = 42\n",
            "8 / 3 = 2.6666666666666665\n",
            "8 // 3 = 2\n",
            "8 % 3 = 2\n",
            "2 ** 5 = 32\n"
          ]
        }
      ],
      "source": [
        "print(\"3 + 5 =\", 3 + 5)\n",
        "print(\"10 - 4 =\", 10 - 4)\n",
        "print(\"6 * 7 =\", 6 * 7)\n",
        "print(\"8 / 3 =\", 8 / 3)\n",
        "print(\"8 // 3 =\", 8 // 3)\n",
        "print(\"8 % 3 =\", 8 % 3)\n",
        "print(\"2 ** 5 =\", 2 ** 5)"
      ]
    },
    {
      "cell_type": "markdown",
      "id": "da26f80e",
      "metadata": {
        "id": "da26f80e"
      },
      "source": [
        "-**실습 2:**\n",
        "\n",
        "15와 4의 나눗셈 결과(몫, 나머지)를 `print()`로 출력해 보세요."
      ]
    },
    {
      "cell_type": "code",
      "source": [
        "print(15//4, 15%4)"
      ],
      "metadata": {
        "id": "LxF4YUPFkyZV",
        "colab": {
          "base_uri": "https://localhost:8080/"
        },
        "outputId": "0d3c051d-9d0a-41b6-9e62-669126b74b30"
      },
      "id": "LxF4YUPFkyZV",
      "execution_count": 3,
      "outputs": [
        {
          "output_type": "stream",
          "name": "stdout",
          "text": [
            "3 3\n"
          ]
        }
      ]
    },
    {
      "cell_type": "markdown",
      "id": "c360be9a",
      "metadata": {
        "id": "c360be9a"
      },
      "source": [
        "## 3. 변수 사용\n",
        "프로그래밍에서 변수는 데이터를 저장하고 참조하기 위해 사용되며, 변수 이름과 데이터 타입이 중요합니다\n",
        "\n",
        "- 변수는 `=` 기호로 값을 저장합니다.\n",
        "- 변수 이름은 문자, 숫자, 언더스코어(_) 사용 가능하며 숫자로 시작하면 안 됩니다."
      ]
    },
    {
      "cell_type": "markdown",
      "source": [
        "파이썬에서 사용할 수 있는 자료형 중 많이 사용하는 것은 다음과 같다:\n",
        "- bool: 참(True) 또는 거짓(False)\n",
        "- int: 정수형 숫자 (예: 1, -3)\n",
        "- float: 실수\n",
        "- complex: 복소수 (예: ```2+3j```)\n",
        "- str: 문자열 (예: ```'hello', '3'```)\n",
        "- tuple: 변경 불가능한 순서 있는 데이터 묶음 (예: ```(1,2,3)```)\n",
        "- list: 변경 가능한 순서 있는 데이터 묶음 (예: ```[1,2,3]```)\n",
        "- dict: 키-값(key-value) 쌍으로 구성된 데이터 구조 (예: ```{'a': 1}```)\n",
        "\n",
        "```type``` 명령을 통해 변수나 값의 자료형을 알아볼 수 있다."
      ],
      "metadata": {
        "id": "FYiTOTKGWub9"
      },
      "id": "FYiTOTKGWub9"
    },
    {
      "cell_type": "code",
      "execution_count": 4,
      "id": "1bdfcf1f",
      "metadata": {
        "colab": {
          "base_uri": "https://localhost:8080/"
        },
        "id": "1bdfcf1f",
        "outputId": "26c61407-7b6b-4935-b8e1-37da6ff3ff84"
      },
      "outputs": [
        {
          "output_type": "stream",
          "name": "stdout",
          "text": [
            "x + y = 13\n"
          ]
        }
      ],
      "source": [
        "# 예제: 사각형 넓이 계산\n",
        "x = 10\n",
        "y = 3\n",
        "sum_xy = x + y\n",
        "print(\"x + y =\", sum_xy)"
      ]
    },
    {
      "cell_type": "code",
      "source": [
        "# 예제: 사각형 넓이 계산\n",
        "width = 5\n",
        "height = 2\n",
        "area = width * height\n",
        "print(\"사각형의 넓이 =\", area)\n",
        "print(f\"사각형의 넓이 = {area}\")"
      ],
      "metadata": {
        "colab": {
          "base_uri": "https://localhost:8080/"
        },
        "id": "wLypA_xYTSFI",
        "outputId": "b6574e47-208c-47a2-f2b1-a33c1e830cc2"
      },
      "id": "wLypA_xYTSFI",
      "execution_count": 5,
      "outputs": [
        {
          "output_type": "stream",
          "name": "stdout",
          "text": [
            "사각형의 넓이 = 10\n",
            "사각형의 넓이 = 10\n"
          ]
        }
      ]
    },
    {
      "cell_type": "code",
      "source": [
        "# 예제: 안녕지옥\n",
        "text = \"안녕\"\n",
        "print(text*10)\n",
        "space = \" \"\n",
        "print(text+space+text)"
      ],
      "metadata": {
        "colab": {
          "base_uri": "https://localhost:8080/"
        },
        "id": "FWO7zn9ITS0w",
        "outputId": "75e43f30-739e-4cf5-cb34-aa0443899abc"
      },
      "id": "FWO7zn9ITS0w",
      "execution_count": 6,
      "outputs": [
        {
          "output_type": "stream",
          "name": "stdout",
          "text": [
            "안녕안녕안녕안녕안녕안녕안녕안녕안녕안녕\n",
            "안녕 안녕\n"
          ]
        }
      ]
    },
    {
      "cell_type": "code",
      "source": [
        "# 문자와 숫자는 더할 수 없습니다\n",
        "text = \"안녕\"\n",
        "num = 5\n",
        "print(text+num)"
      ],
      "metadata": {
        "colab": {
          "base_uri": "https://localhost:8080/",
          "height": 184
        },
        "id": "J1aVAgQuUA-f",
        "outputId": "475750f5-aade-4a78-95ca-d5dd35be14f2"
      },
      "id": "J1aVAgQuUA-f",
      "execution_count": 7,
      "outputs": [
        {
          "output_type": "error",
          "ename": "TypeError",
          "evalue": "can only concatenate str (not \"int\") to str",
          "traceback": [
            "\u001b[0;31m---------------------------------------------------------------------------\u001b[0m",
            "\u001b[0;31mTypeError\u001b[0m                                 Traceback (most recent call last)",
            "\u001b[0;32m<ipython-input-7-ab69e69d00a9>\u001b[0m in \u001b[0;36m<cell line: 0>\u001b[0;34m()\u001b[0m\n\u001b[1;32m      2\u001b[0m \u001b[0mtext\u001b[0m \u001b[0;34m=\u001b[0m \u001b[0;34m\"안녕\"\u001b[0m\u001b[0;34m\u001b[0m\u001b[0;34m\u001b[0m\u001b[0m\n\u001b[1;32m      3\u001b[0m \u001b[0mnum\u001b[0m \u001b[0;34m=\u001b[0m \u001b[0;36m5\u001b[0m\u001b[0;34m\u001b[0m\u001b[0;34m\u001b[0m\u001b[0m\n\u001b[0;32m----> 4\u001b[0;31m \u001b[0mprint\u001b[0m\u001b[0;34m(\u001b[0m\u001b[0mtext\u001b[0m\u001b[0;34m+\u001b[0m\u001b[0mnum\u001b[0m\u001b[0;34m)\u001b[0m\u001b[0;34m\u001b[0m\u001b[0;34m\u001b[0m\u001b[0m\n\u001b[0m",
            "\u001b[0;31mTypeError\u001b[0m: can only concatenate str (not \"int\") to str"
          ]
        }
      ]
    },
    {
      "cell_type": "markdown",
      "id": "74532cfe",
      "metadata": {
        "id": "74532cfe"
      },
      "source": [
        "**실습 3:**\n",
        "\n",
        "`a = 7`, `b = 2`일 때, `a`를 `b`로 나눈 몫과 나머지를 출력하는 코드를 작성해 보세요."
      ]
    },
    {
      "cell_type": "code",
      "source": [
        "a = 7\n",
        "b = 2\n",
        "print(a//b, a%b)"
      ],
      "metadata": {
        "colab": {
          "base_uri": "https://localhost:8080/"
        },
        "id": "vMFjOwomoJZX",
        "outputId": "6737d0f2-68d7-49ee-a467-51c95fe81fa2"
      },
      "id": "vMFjOwomoJZX",
      "execution_count": 8,
      "outputs": [
        {
          "output_type": "stream",
          "name": "stdout",
          "text": [
            "3 1\n"
          ]
        }
      ]
    },
    {
      "cell_type": "markdown",
      "source": [
        "## 4. 조건문\n",
        "1. `if` 문\n",
        "- 특정 조건이 참(`True`)일 때만 코드 블록을 실행하도록 하는 제어문입니다.\n",
        "2. `else` 추가하기\n",
        "- `if` 조건이 거짓(`False`)일 때 대체 실행 블록을 정의합니다.\n",
        "3. `elif` 로 여러 가지 경우 나누기\n",
        "- 여러 조건식을 차례로 검사할 때 사용합니다."
      ],
      "metadata": {
        "id": "18AyH42bXmI8"
      },
      "id": "18AyH42bXmI8"
    },
    {
      "cell_type": "code",
      "source": [
        "# 예제: 숫자가 10보다 큰지 확인하기\n",
        "x = 12\n",
        "if x > 10:\n",
        "    print(\"x는 10보다 큽니다.\")  # 실행됨"
      ],
      "metadata": {
        "id": "Ayr9piyXXtn0",
        "colab": {
          "base_uri": "https://localhost:8080/"
        },
        "outputId": "e63668c3-9a6f-4aa9-b22c-6f0915369d8a"
      },
      "id": "Ayr9piyXXtn0",
      "execution_count": 9,
      "outputs": [
        {
          "output_type": "stream",
          "name": "stdout",
          "text": [
            "x는 10보다 큽니다.\n"
          ]
        }
      ]
    },
    {
      "cell_type": "code",
      "source": [
        "# 예제: 짝수/홀수 판별\n",
        "n = 7\n",
        "if n % 2 == 0:\n",
        "    print(\"짝수입니다.\")\n",
        "else:\n",
        "    print(\"홀수입니다.\")"
      ],
      "metadata": {
        "id": "N6mnAnxiXzsc",
        "colab": {
          "base_uri": "https://localhost:8080/"
        },
        "outputId": "6d84cd93-ddc0-4fb1-a092-8098e2425436"
      },
      "id": "N6mnAnxiXzsc",
      "execution_count": 10,
      "outputs": [
        {
          "output_type": "stream",
          "name": "stdout",
          "text": [
            "홀수입니다.\n"
          ]
        }
      ]
    },
    {
      "cell_type": "code",
      "source": [
        "# 예제: 점수에 따른 등급 매기기\n",
        "score = 85\n",
        "\n",
        "if score >= 90:\n",
        "    grade = \"A\"\n",
        "elif score >= 80:\n",
        "    grade = \"B\"\n",
        "elif score >= 70:\n",
        "    grade = \"C\"\n",
        "else:\n",
        "    grade = \"F\"\n",
        "\n",
        "print(f\"점수 {score}점은 {grade}입니다.\")"
      ],
      "metadata": {
        "id": "t3721T-QX6YE",
        "colab": {
          "base_uri": "https://localhost:8080/"
        },
        "outputId": "36df647c-5af8-42fa-a02b-8b3550f2fadb"
      },
      "id": "t3721T-QX6YE",
      "execution_count": 11,
      "outputs": [
        {
          "output_type": "stream",
          "name": "stdout",
          "text": [
            "점수 85점은 B입니다.\n"
          ]
        }
      ]
    },
    {
      "cell_type": "markdown",
      "source": [
        "### 4.1 연산자\n",
        "1. 비교  연산자\n",
        "- `==`, `!=`, `<`, `>`, `<=`, `>=`\n",
        "2. 논리 연산자\n",
        "- `and`, `or`, `not`"
      ],
      "metadata": {
        "id": "wtNIrohcYk27"
      },
      "id": "wtNIrohcYk27"
    },
    {
      "cell_type": "code",
      "source": [
        "x = 5\n",
        "y = 8\n",
        "\n",
        "# and: 둘 다 참일 때\n",
        "if x > 0 and y > 0:\n",
        "    print(\"x와 y 모두 양수입니다.\")\n",
        "\n",
        "# or: 둘 중 하나만 참이어도\n",
        "if x == 5 or y == 5:\n",
        "    print(\"x 또는 y 중 하나는 5입니다.\")\n",
        "\n",
        "# not: 부정\n",
        "if not x < 0:\n",
        "    print(\"x는 음수가 아닙니다.\")"
      ],
      "metadata": {
        "id": "L-JV7iZQYkQr",
        "colab": {
          "base_uri": "https://localhost:8080/"
        },
        "outputId": "47211902-6e60-4ab2-942e-d2386837a694"
      },
      "id": "L-JV7iZQYkQr",
      "execution_count": 12,
      "outputs": [
        {
          "output_type": "stream",
          "name": "stdout",
          "text": [
            "x와 y 모두 양수입니다.\n",
            "x 또는 y 중 하나는 5입니다.\n",
            "x는 음수가 아닙니다.\n"
          ]
        }
      ]
    },
    {
      "cell_type": "markdown",
      "id": "ee8b0e48",
      "metadata": {
        "id": "ee8b0e48"
      },
      "source": [
        "## 5. `for` 문\n",
        "\n",
        "- `for` 문은 반복을 수행할 때 사용합니다.\n",
        "- `range(n)`은 0부터 n-1까지의 정수 시퀀스를 생성합니다."
      ]
    },
    {
      "cell_type": "code",
      "execution_count": 13,
      "id": "b0b9a194",
      "metadata": {
        "id": "b0b9a194",
        "colab": {
          "base_uri": "https://localhost:8080/"
        },
        "outputId": "f415083d-0b6d-48aa-8703-a882f6994b8f"
      },
      "outputs": [
        {
          "output_type": "stream",
          "name": "stdout",
          "text": [
            "현재 i의 값: 0\n",
            "현재 i의 값: 1\n",
            "현재 i의 값: 2\n",
            "현재 i의 값: 3\n",
            "현재 i의 값: 4\n"
          ]
        }
      ],
      "source": [
        "for i in range(5):\n",
        "    print(\"현재 i의 값:\", i)"
      ]
    },
    {
      "cell_type": "code",
      "source": [
        "# 예제: 1부터 10까지 짝수만 출력하기\n",
        "for num in range(1, 11):\n",
        "    if num % 2 == 0:\n",
        "        print(num)"
      ],
      "metadata": {
        "id": "_pGgL7zBlb7P",
        "colab": {
          "base_uri": "https://localhost:8080/"
        },
        "outputId": "2326d41e-a329-403c-8a5d-d4382013dbde"
      },
      "id": "_pGgL7zBlb7P",
      "execution_count": 14,
      "outputs": [
        {
          "output_type": "stream",
          "name": "stdout",
          "text": [
            "2\n",
            "4\n",
            "6\n",
            "8\n",
            "10\n"
          ]
        }
      ]
    },
    {
      "cell_type": "markdown",
      "id": "86f16467",
      "metadata": {
        "id": "86f16467"
      },
      "source": [
        "**실습 4:**\n",
        "\n",
        "`for` 문을 사용해 1부터 20까지 숫자의 합을 계산하고 출력해 보세요."
      ]
    },
    {
      "cell_type": "code",
      "source": [
        "sum = 0\n",
        "for i in range(1,21):\n",
        "  sum += 1\n",
        "sum"
      ],
      "metadata": {
        "colab": {
          "base_uri": "https://localhost:8080/"
        },
        "id": "b-v1V8f_vkzh",
        "outputId": "789628e8-fad1-4371-d4e9-17e4d9744716"
      },
      "id": "b-v1V8f_vkzh",
      "execution_count": 15,
      "outputs": [
        {
          "output_type": "execute_result",
          "data": {
            "text/plain": [
              "20"
            ]
          },
          "metadata": {},
          "execution_count": 15
        }
      ]
    },
    {
      "cell_type": "markdown",
      "source": [
        "\n",
        "**실습 5:**\n",
        "\n",
        "`for` 문을 사용해 2단부터 9단까지의 구구단을 출력하는 프로그램을 작성하세요."
      ],
      "metadata": {
        "id": "hrPOQ4NZljkD"
      },
      "id": "hrPOQ4NZljkD"
    },
    {
      "cell_type": "code",
      "source": [
        "for i in range(1,10):\n",
        "  for j in range(1,10):\n",
        "    print(f'{i}x{j}={i*j}')"
      ],
      "metadata": {
        "colab": {
          "base_uri": "https://localhost:8080/"
        },
        "id": "Y4DM4VcGv44n",
        "outputId": "4bc1b099-ae70-4f7c-da84-be00d01d8341",
        "collapsed": true
      },
      "id": "Y4DM4VcGv44n",
      "execution_count": 16,
      "outputs": [
        {
          "output_type": "stream",
          "name": "stdout",
          "text": [
            "1x1=1\n",
            "1x2=2\n",
            "1x3=3\n",
            "1x4=4\n",
            "1x5=5\n",
            "1x6=6\n",
            "1x7=7\n",
            "1x8=8\n",
            "1x9=9\n",
            "2x1=2\n",
            "2x2=4\n",
            "2x3=6\n",
            "2x4=8\n",
            "2x5=10\n",
            "2x6=12\n",
            "2x7=14\n",
            "2x8=16\n",
            "2x9=18\n",
            "3x1=3\n",
            "3x2=6\n",
            "3x3=9\n",
            "3x4=12\n",
            "3x5=15\n",
            "3x6=18\n",
            "3x7=21\n",
            "3x8=24\n",
            "3x9=27\n",
            "4x1=4\n",
            "4x2=8\n",
            "4x3=12\n",
            "4x4=16\n",
            "4x5=20\n",
            "4x6=24\n",
            "4x7=28\n",
            "4x8=32\n",
            "4x9=36\n",
            "5x1=5\n",
            "5x2=10\n",
            "5x3=15\n",
            "5x4=20\n",
            "5x5=25\n",
            "5x6=30\n",
            "5x7=35\n",
            "5x8=40\n",
            "5x9=45\n",
            "6x1=6\n",
            "6x2=12\n",
            "6x3=18\n",
            "6x4=24\n",
            "6x5=30\n",
            "6x6=36\n",
            "6x7=42\n",
            "6x8=48\n",
            "6x9=54\n",
            "7x1=7\n",
            "7x2=14\n",
            "7x3=21\n",
            "7x4=28\n",
            "7x5=35\n",
            "7x6=42\n",
            "7x7=49\n",
            "7x8=56\n",
            "7x9=63\n",
            "8x1=8\n",
            "8x2=16\n",
            "8x3=24\n",
            "8x4=32\n",
            "8x5=40\n",
            "8x6=48\n",
            "8x7=56\n",
            "8x8=64\n",
            "8x9=72\n",
            "9x1=9\n",
            "9x2=18\n",
            "9x3=27\n",
            "9x4=36\n",
            "9x5=45\n",
            "9x6=54\n",
            "9x7=63\n",
            "9x8=72\n",
            "9x9=81\n"
          ]
        }
      ]
    },
    {
      "cell_type": "markdown",
      "source": [
        "## 6. 리스트 (List)\n",
        "\n",
        "- 여러 값을 순서대로 저장하는 자료형입니다.\n",
        "- 대괄호 `[]`를 사용합니다."
      ],
      "metadata": {
        "id": "GrTBnRV6VkO2"
      },
      "id": "GrTBnRV6VkO2"
    },
    {
      "cell_type": "code",
      "source": [
        "fruits = [\"사과\", \"바나나\", \"체리\"]\n",
        "print(\"과일 리스트:\", fruits)\n",
        "print(\"첫 번째 과일:\", fruits[0])"
      ],
      "metadata": {
        "id": "D_ZTALWHVmQ2",
        "colab": {
          "base_uri": "https://localhost:8080/"
        },
        "outputId": "3f8992d5-0113-4fc1-84a7-ef0227656915"
      },
      "id": "D_ZTALWHVmQ2",
      "execution_count": 17,
      "outputs": [
        {
          "output_type": "stream",
          "name": "stdout",
          "text": [
            "과일 리스트: ['사과', '바나나', '체리']\n",
            "첫 번째 과일: 사과\n"
          ]
        }
      ]
    },
    {
      "cell_type": "code",
      "source": [
        "# for 문과 함께 사용\n",
        "for fruit in fruits:\n",
        "    print(\"과일:\", fruit)"
      ],
      "metadata": {
        "id": "SDlyvlT6mtwL",
        "colab": {
          "base_uri": "https://localhost:8080/"
        },
        "outputId": "fb6b00f0-536f-4f2d-9ec6-3a5861678c4f"
      },
      "id": "SDlyvlT6mtwL",
      "execution_count": 18,
      "outputs": [
        {
          "output_type": "stream",
          "name": "stdout",
          "text": [
            "과일: 사과\n",
            "과일: 바나나\n",
            "과일: 체리\n"
          ]
        }
      ]
    },
    {
      "cell_type": "code",
      "source": [
        "# 인덱스와 요소를 함께 출력\n",
        "for index, word in enumerate(['첫번째','두번째','세번째']):\n",
        "  print(index, word)"
      ],
      "metadata": {
        "colab": {
          "base_uri": "https://localhost:8080/"
        },
        "id": "1g2TY92Vz00e",
        "outputId": "217dbdec-d2c2-46c7-96fc-c0ec233a0027"
      },
      "id": "1g2TY92Vz00e",
      "execution_count": 19,
      "outputs": [
        {
          "output_type": "stream",
          "name": "stdout",
          "text": [
            "0 첫번째\n",
            "1 두번째\n",
            "2 세번째\n"
          ]
        }
      ]
    },
    {
      "cell_type": "markdown",
      "source": [
        "**실습 6:**\n",
        "\n",
        "- `numbers = [1, 2, 3, 4, 5]` 리스트를 만들고, `for` 문을 사용해 각 요소의 제곱을 출력해 보세요."
      ],
      "metadata": {
        "id": "rd8ojxB5VyCW"
      },
      "id": "rd8ojxB5VyCW"
    },
    {
      "cell_type": "code",
      "source": [
        "numbers = [1,2,3,4,5]\n",
        "for num in numbers:\n",
        "  print(num**2)"
      ],
      "metadata": {
        "colab": {
          "base_uri": "https://localhost:8080/"
        },
        "id": "j9ITmsy_0VA6",
        "outputId": "c465af3f-4576-4967-b445-6a2ff9cca2b5"
      },
      "id": "j9ITmsy_0VA6",
      "execution_count": 20,
      "outputs": [
        {
          "output_type": "stream",
          "name": "stdout",
          "text": [
            "1\n",
            "4\n",
            "9\n",
            "16\n",
            "25\n"
          ]
        }
      ]
    },
    {
      "cell_type": "markdown",
      "source": [
        "## 7. 행렬 (Matrix)\n",
        "\n",
        "- 리스트 안에 리스트를 넣어 2차원 배열처럼 사용할 수 있습니다."
      ],
      "metadata": {
        "id": "wTEmdsY4V3u1"
      },
      "id": "wTEmdsY4V3u1"
    },
    {
      "cell_type": "code",
      "source": [
        "matrix = [\n",
        "    [1, 2, 3],\n",
        "    [4, 5, 6],\n",
        "    [7, 8, 9]\n",
        "]\n",
        "matrix"
      ],
      "metadata": {
        "id": "oZ8DSc7iV2Rl",
        "colab": {
          "base_uri": "https://localhost:8080/"
        },
        "outputId": "bdbcf05c-7a38-4db4-ff14-db16bc4fc242"
      },
      "id": "oZ8DSc7iV2Rl",
      "execution_count": 21,
      "outputs": [
        {
          "output_type": "execute_result",
          "data": {
            "text/plain": [
              "[[1, 2, 3], [4, 5, 6], [7, 8, 9]]"
            ]
          },
          "metadata": {},
          "execution_count": 21
        }
      ]
    },
    {
      "cell_type": "code",
      "source": [
        "# 행렬의 특정 원소 접근\n",
        "print(\"2행 3열 원소:\", matrix[1][2])"
      ],
      "metadata": {
        "id": "fGo7rNr33XrO",
        "colab": {
          "base_uri": "https://localhost:8080/"
        },
        "outputId": "ef655c89-2c8f-49df-a51e-79853a871bbf"
      },
      "id": "fGo7rNr33XrO",
      "execution_count": 22,
      "outputs": [
        {
          "output_type": "stream",
          "name": "stdout",
          "text": [
            "2행 3열 원소: 6\n"
          ]
        }
      ]
    },
    {
      "cell_type": "markdown",
      "source": [
        "**실습 7:**\n",
        "\n",
        "- `matrix`의 대각선 원소들의 합을 계산해 보세요."
      ],
      "metadata": {
        "id": "8eR5_uBLV8zF"
      },
      "id": "8eR5_uBLV8zF"
    },
    {
      "cell_type": "code",
      "source": [
        "sum = 0\n",
        "for i in range(3):\n",
        "  sum += matrix[i][i]\n",
        "sum"
      ],
      "metadata": {
        "colab": {
          "base_uri": "https://localhost:8080/"
        },
        "id": "meKj77Ti3bPV",
        "outputId": "9da724c6-0bb9-44c5-8582-253af207f1c1"
      },
      "id": "meKj77Ti3bPV",
      "execution_count": 23,
      "outputs": [
        {
          "output_type": "execute_result",
          "data": {
            "text/plain": [
              "15"
            ]
          },
          "metadata": {},
          "execution_count": 23
        }
      ]
    },
    {
      "cell_type": "markdown",
      "id": "a1c30ef7",
      "metadata": {
        "id": "a1c30ef7"
      },
      "source": [
        "## 심화 연습문제 (도전)\n",
        "\n",
        "**최솟값과 최댓값 구하기**:\n",
        "\n",
        "`[20, 10, 35, 30, 7]`에서 최솟값과 최댓값을 각각 구분해서 출력하시오."
      ]
    },
    {
      "cell_type": "code",
      "source": [
        "min = 99999999999\n",
        "max = -1000000\n",
        "for i in [20, 10, 35, 30, 7]:\n",
        "  if i >= max:\n",
        "    max = i\n",
        "  if i <= min:\n",
        "    min = i\n",
        "print(min, max)"
      ],
      "metadata": {
        "colab": {
          "base_uri": "https://localhost:8080/"
        },
        "id": "WQRgYWLwXBqd",
        "outputId": "ed1ae57b-d880-4e83-8bde-a9447cfdfbd2"
      },
      "id": "WQRgYWLwXBqd",
      "execution_count": 24,
      "outputs": [
        {
          "output_type": "stream",
          "name": "stdout",
          "text": [
            "7 35\n"
          ]
        }
      ]
    }
  ],
  "metadata": {
    "colab": {
      "provenance": []
    },
    "language_info": {
      "name": "python"
    },
    "kernelspec": {
      "name": "python3",
      "display_name": "Python 3"
    }
  },
  "nbformat": 4,
  "nbformat_minor": 5
}